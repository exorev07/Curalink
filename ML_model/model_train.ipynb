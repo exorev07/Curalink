import pandas as pd
import numpy as np

# Parameters
start = "2025-09-01"
periods = 24 * 30   # 30 days hourly = 240 rows

# Generate base datetime range
rng = pd.date_range(start, periods=periods, freq="h")

# Base dataset
df = pd.DataFrame({
    "datetime": rng,
    "dayofweek": rng.dayofweek,   # Monday=0, Sunday=6
    "hour": rng.hour,
    "patients": np.random.randint(15, 30, size=periods)  # synthetic patient counts
})

# --- Add new features ---

# 1. Season mapping
def get_season(month):
    if month in [12, 1, 2]:
        return "Winter"
    elif month in [3, 4, 5]:
        return "Summer"
    elif month in [6, 7, 8, 9]:
        return "Monsoon"
    else:
        return "Autumn"

df["season"] = df["datetime"].dt.month.map(get_season)

# 2. Holiday flag (weekends)
df["holiday"] = df["dayofweek"].apply(lambda x: 1 if x in [5, 6] else 0)

# Save to CSV
csv_filename = "hospital_bed_dataset.csv"
df.to_csv(csv_filename, index=False)

print(f" Dataset generated and saved as {csv_filename}")

import pandas as pd

# Load the generated dataset
df = pd.read_csv("hospital_bed_dataset.csv", parse_dates=["datetime"])


# Cell X: Improved Training with Feature Engineering (no epidemic)

import pandas as pd
import numpy as np
from sklearn.ensemble import RandomForestRegressor
from sklearn.model_selection import train_test_split
from sklearn.metrics import mean_absolute_error, r2_score
import joblib

# 1. Load data
df = pd.read_csv("hospital_bed_dataset.csv", parse_dates=["datetime"])

# 2. Lag features
df["lag1"] = df["patients"].shift(1)
df["lag2"] = df["patients"].shift(2)
df["lag3"] = df["patients"].shift(3)
df["lag24"] = df["patients"].shift(24)
df["lag6"] = df["patients"].shift(6)
df["lag12"] = df["patients"].shift(12)
df["lag18"] = df["patients"].shift(18)


# 3. Rolling means
df["rolling_3h"] = df["patients"].rolling(window=3).mean()
df["rolling_6h"] = df["patients"].rolling(window=6).mean()
df["rolling_24h"] = df["patients"].rolling(window=24).mean()
df["rolling_12h"] = df["patients"].rolling(12).mean()
df["rolling_18h"] = df["patients"].rolling(18).mean()


# 4. Polynomial & interaction features
df["hour_sq"] = df["hour"] ** 2
df["hour_holiday"] = df["hour"] * df["holiday"]
df["lag1_lag24"] = df["lag1"] * df["lag24"]
df["peak_hour"] = df["hour"].isin([9,10,17,18]).astype(int)

# 5. Drop NaN caused by lags/rollings
df = df.dropna()

# 6. One-hot encode 'season'
df = pd.get_dummies(df, columns=["season"], drop_first=False)

# Ensure all expected season columns exist
for col in ["season_Monsoon", "season_Summer", "season_Winter"]:
    if col not in df.columns:
        df[col] = 0  # add missing column with all zeros

# 7. Define features
features = [
    "dayofweek", "hour", "holiday",
    "lag1", "lag2", "lag3", "lag24", "lag6", "lag12", "lag18",
    "rolling_3h", "rolling_6h", "rolling_24h", "rolling_12h", "rolling_18h",
    "hour_sq", "hour_holiday", "lag1_lag24", "peak_hour",
    "season_Monsoon", "season_Summer", "season_Winter"
]
X = df[features]
y = df["patients"]

# 8. Train-test split
X_train, X_test, y_train, y_test = train_test_split(
    X, y, test_size=0.2, shuffle=False
)

# 9. Train Random Forest
model = RandomForestRegressor(
    n_estimators=500,
    max_depth=None,
    min_samples_split=5,
    min_samples_leaf=2,
    random_state=42,
    n_jobs=-1
)
model.fit(X_train, y_train)

# 10. Evaluate
y_pred = model.predict(X_test)
mae = mean_absolute_error(y_test, y_pred)
r2 = r2_score(y_test, y_pred)

print(" MAE:", mae)
print(" R²:", r2)

# 11. Save model
joblib.dump(model, "rf_best_model.joblib")
print(" Saved as rf_best_model.joblib")

import pandas as pd
import matplotlib.pyplot as plt

# Load dataset with new features
df = pd.read_csv("hospital_bed_dataset.csv", parse_dates=["datetime"])

plt.figure(figsize=(14,6))

# Plot patient counts
plt.plot(df["datetime"], df["patients"], marker="o", linestyle="-", label="Observed Patients")


plt.title("Synthetic Patient Footfall (10 Days)")
plt.xlabel("Datetime")
plt.ylabel("Number of Patients")
plt.xticks(rotation=45)
plt.legend()
plt.grid(True)
plt.tight_layout()
plt.show()


import pandas as pd
import numpy as np
from datetime import timedelta
import joblib

# Load trained model
model = joblib.load("rf_best_model.joblib")

# Load dataset
df = pd.read_csv("hospital_bed_dataset.csv", parse_dates=["datetime"])

# Create lag features
df["lag1"] = df["patients"].shift(1)
df["lag2"] = df["patients"].shift(2)
df["lag3"] = df["patients"].shift(3)
df["lag24"] = df["patients"].shift(24)
df["lag6"] = df["patients"].shift(6)
df["lag12"] = df["patients"].shift(12)
df["lag18"] = df["patients"].shift(18)
df = df.dropna()

# Rolling features
df["rolling_3h"] = df["patients"].rolling(3).mean()
df["rolling_6h"] = df["patients"].rolling(6).mean()
df["rolling_24h"] = df["patients"].rolling(24).mean()
df["rolling_12h"] = df["patients"].rolling(12).mean()
df["rolling_18h"] = df["patients"].rolling(18).mean()
df = df.dropna()

# Polynomial / interaction features
df["hour_sq"] = df["hour"] ** 2
df["hour_holiday"] = df["hour"] * df["holiday"]
df["lag1_lag24"] = df["lag1"] * df["lag24"]
df["peak_hour"] = df["hour"].isin([9,10,17,18]).astype(int)

# One-hot encode season
df = pd.get_dummies(df, columns=["season"], drop_first=True)

# Ensure all season columns exist
for col in ["season_Monsoon", "season_Summer", "season_Winter"]:
    if col not in df.columns:
        df[col] = 0

# Last row for forecasting
# Initial lags
lag1 = df.iloc[-1]["patients"]
lag2 = df.iloc[-2]["patients"]
lag3 = df.iloc[-3]["patients"]
lag24 = df.iloc[-24]["patients"]
lag6= df.iloc[-6]["patients"]
lag12 = df.iloc[-12]["patients"]
lag18 = df.iloc[-18]["patients"]

current_datetime = df.iloc[-1]["datetime"]
future_preds = []


# Helper function to get season
def get_season(month):
    if month in [12, 1, 2]:
        return "Winter"
    elif month in [3, 4, 5]:
        return "Summer"
    elif month in [6, 7, 8, 9]:
        return "Monsoon"
    else:
        return "Autumn"

season_cols = ["season_Monsoon", "season_Summer", "season_Winter"]

# Forecast next 12 hours
for step in range(12):
    current_datetime += timedelta(hours=1)

    # Basic time-based features
    dayofweek = current_datetime.weekday()
    hour = current_datetime.hour
    holiday = 1 if dayofweek in [5, 6] else 0

    # Polynomial features
    hour_sq = hour ** 2
    hour_holiday = hour * holiday
    lag1_lag24 = lag1 * lag24
    peak_hour = 1 if hour in [9,10,17,18] else 0

    # Season (one-hot)
    season = get_season(current_datetime.month)
    season_array = [1 if season == s.split("_")[1] else 0 for s in season_cols]

   # --- Lag features ---
    lag3 = lag2
    lag2 = lag1
    # lag6, lag12, lag18: take from previous predicted values if available
    lag6 = future_preds[-6]["predicted"] if len(future_preds) >= 6 else lag3
    lag12 = future_preds[-12]["predicted"] if len(future_preds) >= 12 else lag6
    lag18 = future_preds[-18]["predicted"] if len(future_preds) >= 18 else lag12
    # lag24: take 24-hour-old actual/pred if available
    lag24 = future_preds[-24]["predicted"] if len(future_preds) >= 24 else lag18

    # --- Rolling features ---
    recent_3h = [lag1, lag2, lag3]
    rolling_3h = np.mean(recent_3h)

    if len(future_preds) >= 6:
        rolling_6h = np.mean([p["predicted"] for p in future_preds[-6:]])
    else:
        rolling_6h = np.mean(recent_3h)

    if len(future_preds) >= 12:
        rolling_12h = np.mean([p["predicted"] for p in future_preds[-12:]])
    else:
        rolling_12h = np.mean(recent_3h)

    if len(future_preds) >= 18:
        rolling_18h = np.mean([p["predicted"] for p in future_preds[-18:]])
    else:
        rolling_18h = np.mean(recent_3h)

    if len(future_preds) >= 24:
        rolling_24h = np.mean([p["predicted"] for p in future_preds[-24:]])
    else:
        rolling_24h = np.mean(recent_3h)

    # --- Polynomial / Interaction feature ---
    hour_sq = current_datetime.hour ** 2
    hour_holiday = current_datetime.hour * (1 if current_datetime.weekday() in [5,6] else 0)

    # --- Peak hour feature ---
    peak_hour = 1 if current_datetime.hour in [9,10,17,18] else 0


    # --- Combine all features in the same order as training ---
    X_future = np.array([[
            dayofweek, hour, holiday,
        lag1, lag2, lag3, lag24, lag6, lag12, lag18,
        rolling_3h, rolling_6h, rolling_24h, rolling_12h, rolling_18h,
        hour_sq, hour_holiday, lag1_lag24, peak_hour
        ] + season_array])
    # Predict
    pred = model.predict(X_future)[0]

    # Save prediction
    future_preds.append({"datetime": current_datetime, "predicted": pred})

    # Update lags for next step
    lag3 = lag2
    lag2 = lag1
    lag1 = pred


    # Create DataFrame
    future_df = pd.DataFrame(future_preds)
    print(future_df.head())

import matplotlib.pyplot as plt

# Set threshold for a peak (mean + 1 std is a good start)
threshold_obs = df["patients"].iloc[-48:].mean() + df["patients"].iloc[-48:].std()
threshold_pred = future_df["predicted"].mean() + future_df["predicted"].std()

# Observed last 2 days
observed_last2 = df.iloc[-48:].copy()
peaks_obs = observed_last2[observed_last2["patients"] >= threshold_obs]

# Forecast next 12 hours
peaks_pred = future_df[future_df["predicted"] >= threshold_pred]

plt.figure(figsize=(14,6))

# Plot observed data
plt.plot(observed_last2["datetime"], observed_last2["patients"],
         marker="o", linestyle="-", label="Observed (last 2 days)")

# Highlight observed peaks
plt.scatter(peaks_obs["datetime"], peaks_obs["patients"], color="red", s=100, zorder=5, label="Observed Peaks")

# Plot forecast data
plt.plot(future_df["datetime"], future_df["predicted"],
         marker="x", linestyle="--", color="green", label="Forecast (next 12 hrs)")

# Highlight forecast peaks
plt.scatter(peaks_pred["datetime"], peaks_pred["predicted"], color="red", s=100, zorder=5, label="Forecast Peaks")

plt.title("Patient Footfall Forecast with Peaks Highlighted")
plt.xlabel("Datetime")
plt.ylabel("Number of Patients")
plt.xticks(rotation=45)
plt.legend()
plt.grid(True)
plt.tight_layout()
plt.show()

import matplotlib.pyplot as plt

plt.figure(figsize=(14,6))

# Plot observed last 2 days
plt.plot(df["datetime"].iloc[-48:], df["patients"].iloc[-48:],
         marker="o", linestyle="-", label="Observed (last 2 days)")

# Plot forecast next 12 hours
plt.plot(future_df["datetime"], future_df["predicted"],
         marker="x", linestyle="--", color="green", label="Forecast (next 12 hrs)")

plt.title("Patient Footfall Forecast (12 hrs ahead)")
plt.xlabel("Datetime")
plt.ylabel("Number of Patients")
plt.xticks(rotation=45)
plt.legend()
plt.grid(True)
plt.tight_layout()
plt.show()

from sklearn.model_selection import KFold, cross_val_score, TimeSeriesSplit
from sklearn.metrics import make_scorer, mean_absolute_error, r2_score
import numpy as np

# Define features & target again
X = df[features]
y = df["patients"]

# ---- K-Fold Cross Validation ----
kfold = KFold(n_splits=5, shuffle=True, random_state=42)
mae_scores = cross_val_score(
    model, X, y, cv=kfold, scoring=make_scorer(mean_absolute_error, greater_is_better=False)
)
r2_scores = cross_val_score(
    model, X, y, cv=kfold, scoring=make_scorer(r2_score)
)

print("🔹 K-Fold Results:")
print("Mean MAE:", -np.mean(mae_scores))
print("Mean R² :", np.mean(r2_scores))

# ---- TimeSeries Split ----
tscv = TimeSeriesSplit(n_splits=5)
mae_list, r2_list = [], []

for train_idx, test_idx in tscv.split(X):
    X_train, X_test = X.iloc[train_idx], X.iloc[test_idx]
    y_train, y_test = y.iloc[train_idx], y.iloc[test_idx]

    model.fit(X_train, y_train)
    y_pred = model.predict(X_test)

    mae_list.append(mean_absolute_error(y_test, y_pred))
    r2_list.append(r2_score(y_test, y_pred))

print("\n🔹 TimeSeriesSplit Results:")
print("Mean MAE:", np.mean(mae_list))
print("Mean R² :", np.mean(r2_list))



